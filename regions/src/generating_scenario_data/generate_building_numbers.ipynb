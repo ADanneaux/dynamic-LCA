{
 "cells": [
  {
   "cell_type": "code",
   "execution_count": null,
   "id": "405bc915",
   "metadata": {
    "vscode": {
     "languageId": "plaintext"
    }
   },
   "outputs": [],
   "source": [
    "import pandas as pd\n",
    "import os\n",
    "\n",
    "from generation_functions import expand_dataframe, expand_dataframe_interval, year_range, calculate_building_number\n",
    "\n",
    "population_file = '../../raw_data/SSPs_POP.xlsx'\n",
    "ssp1_up = pd.read_excel(population_file, 'un-ssp1-up-g')\n",
    "ssp2_up = pd.read_excel(population_file, 'un-ssp2-up-g')\n",
    "ssp3_up = pd.read_excel(population_file, 'un-ssp3-up-g')\n",
    "\n",
    "ssp_dict = {\n",
    "    'ssp1': ssp1_up,\n",
    "    'ssp2': ssp2_up,\n",
    "    'ssp3': ssp3_up\n",
    "}\n",
    "\n",
    "# Initialize a dictionary to store results\n",
    "reg_population = {}\n",
    "reg_buildings = {}\n",
    "\n",
    "for ssp_name, ssp_up in ssp_dict.items():\n",
    "    # Process each SSP\n",
    "    expanded_ssp_up = expand_dataframe_interval((year_range(expand_dataframe(ssp_up))))\n",
    "    building_number_ssp = calculate_building_number(expanded_ssp_up.copy())\n",
    "    #region_buildings_ssp_all = get_building_numbers(building_number_ssp, region)\n",
    "    #region_buildings_ssp = region_buildings_ssp_all[region].to_numpy()\n",
    "\n",
    "    # Store the result using dynamic names\n",
    "    reg_population[f'expanded_{ssp_name}_up'] = expanded_ssp_up\n",
    "    reg_buildings[f'building_number_{ssp_name}'] = building_number_ssp\n",
    "    #reg_buildings[f'region_buildings_{ssp_name}'] = region_buildings_ssp\n",
    "\n",
    "output_path = os.path.join('..','..','generated_data')\n",
    "\n",
    "directory = output_path\n",
    "if not os.path.exists(directory):\n",
    "    os.makedirs(directory) \n",
    "\n",
    "# Create Excel sheets\n",
    "with pd.ExcelWriter('../../generated_data/SSPs_buildings.xlsx') as writer:\n",
    "    # Write each DataFrame to a different sheet\n",
    "    reg_population['expanded_ssp1_up'].to_excel(writer, sheet_name='pop-g-ssp1', index=False)\n",
    "    reg_population['expanded_ssp2_up'].to_excel(writer, sheet_name='pop-g-ssp2', index=False)\n",
    "    reg_population['expanded_ssp3_up'].to_excel(writer, sheet_name='pop-g-ssp3', index=False)\n",
    "    \n",
    "    reg_buildings['building_number_ssp1'].to_excel(writer, sheet_name='buildings-ssp1', index=False)\n",
    "    reg_buildings['building_number_ssp2'].to_excel(writer, sheet_name='buildings-ssp2', index=False)\n",
    "    reg_buildings['building_number_ssp3'].to_excel(writer, sheet_name='buildings-ssp3', index=False)"
   ]
  }
 ],
 "metadata": {
  "kernelspec": {
   "display_name": "Python 3 (ipykernel)",
   "language": "python",
   "name": "python3"
  },
  "language_info": {
   "codemirror_mode": {
    "name": "ipython",
    "version": 3
   },
   "file_extension": ".py",
   "mimetype": "text/x-python",
   "name": "python",
   "nbconvert_exporter": "python",
   "pygments_lexer": "ipython3",
   "version": "3.9.17"
  },
  "widgets": {
   "application/vnd.jupyter.widget-state+json": {
    "state": {},
    "version_major": 2,
    "version_minor": 0
   }
  }
 },
 "nbformat": 4,
 "nbformat_minor": 5
}
